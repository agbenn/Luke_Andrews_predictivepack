{
 "cells": [
  {
   "cell_type": "code",
   "execution_count": 1,
   "metadata": {},
   "outputs": [],
   "source": [
    "from hw3_library import *\n",
    "import numpy as np"
   ]
  },
  {
   "cell_type": "code",
   "execution_count": 2,
   "metadata": {},
   "outputs": [
    {
     "name": "stdout",
     "output_type": "stream",
     "text": [
      "   Unnamed: 0  encounter_id  hospital_id   age        bmi  elective_surgery  \\\n",
      "0           0        214826          118  68.0  22.732803                 0   \n",
      "1           1        246060           81  77.0  27.421875                 0   \n",
      "2           2        276985          118  25.0  31.952749                 0   \n",
      "3           3        262220          118  81.0  22.635548                 1   \n",
      "4           4        201746           33  19.0        NaN                 0   \n",
      "\n",
      "   ethnicity gender  height hospital_admit_source  ... ventilated_apache  \\\n",
      "0  Caucasian      M   180.3                 Floor  ...                 0   \n",
      "1  Caucasian      F   160.0                 Floor  ...                 1   \n",
      "2  Caucasian      F   172.7  Emergency Department  ...                 0   \n",
      "3  Caucasian      F   165.1        Operating Room  ...                 1   \n",
      "4  Caucasian      M   188.0                   NaN  ...                 0   \n",
      "\n",
      "   wbc_apache aids cirrhosis  hepatic_failure  immunosuppression  leukemia  \\\n",
      "0        14.1    0         0                0                  0         0   \n",
      "1        12.7    0         0                0                  0         0   \n",
      "2         NaN    0         0                0                  0         0   \n",
      "3         8.0    0         0                0                  0         0   \n",
      "4         NaN    0         0                0                  0         0   \n",
      "\n",
      "   lymphoma  solid_tumor_with_metastasis  diabetes_mellitus  \n",
      "0         0                            0                  1  \n",
      "1         0                            0                  1  \n",
      "2         0                            0                  0  \n",
      "3         0                            0                  0  \n",
      "4         0                            0                  0  \n",
      "\n",
      "[5 rows x 53 columns]\n"
     ]
    }
   ],
   "source": [
    "df = load_data()\n",
    "print(df.head())"
   ]
  },
  {
   "cell_type": "code",
   "execution_count": 3,
   "metadata": {},
   "outputs": [
    {
     "name": "stdout",
     "output_type": "stream",
     "text": [
      "   Unnamed: 0  encounter_id  hospital_id   age        bmi  elective_surgery  \\\n",
      "0           0        214826          118  68.0  22.732803                 0   \n",
      "1           1        246060           81  77.0  27.421875                 0   \n",
      "2           2        276985          118  25.0  31.952749                 0   \n",
      "3           3        262220          118  81.0  22.635548                 1   \n",
      "4           4        201746           33  19.0        NaN                 0   \n",
      "\n",
      "   ethnicity gender  height hospital_admit_source  ... wbc_apache  aids  \\\n",
      "0          2      M   180.3                 Floor  ...       14.1     0   \n",
      "1          2      F   160.0                 Floor  ...       12.7     0   \n",
      "2          2      F   172.7  Emergency Department  ...        NaN     0   \n",
      "3          2      F   165.1        Operating Room  ...        8.0     0   \n",
      "4          2      M   188.0                   NaN  ...        NaN     0   \n",
      "\n",
      "  cirrhosis hepatic_failure  immunosuppression  leukemia  lymphoma  \\\n",
      "0         0               0                  0         0         0   \n",
      "1         0               0                  0         0         0   \n",
      "2         0               0                  0         0         0   \n",
      "3         0               0                  0         0         0   \n",
      "4         0               0                  0         0         0   \n",
      "\n",
      "   solid_tumor_with_metastasis  diabetes_mellitus  is_male  \n",
      "0                            0                  1     True  \n",
      "1                            0                  1    False  \n",
      "2                            0                  0    False  \n",
      "3                            0                  0    False  \n",
      "4                            0                  0     True  \n",
      "\n",
      "[5 rows x 54 columns]\n"
     ]
    },
    {
     "name": "stderr",
     "output_type": "stream",
     "text": [
      "/Users/andrewbennett/Documents/bse/computing_for_data_science/hw3/hw3_library.py:37: SettingWithCopyWarning: \n",
      "A value is trying to be set on a copy of a slice from a DataFrame\n",
      "\n",
      "See the caveats in the documentation: https://pandas.pydata.org/pandas-docs/stable/user_guide/indexing.html#returning-a-view-versus-a-copy\n",
      "  df['is_male'].loc[df['gender'] == 'M'] = True\n",
      "/Users/andrewbennett/Documents/bse/computing_for_data_science/hw3/hw3_library.py:38: SettingWithCopyWarning: \n",
      "A value is trying to be set on a copy of a slice from a DataFrame\n",
      "\n",
      "See the caveats in the documentation: https://pandas.pydata.org/pandas-docs/stable/user_guide/indexing.html#returning-a-view-versus-a-copy\n",
      "  df['is_male'].loc[df['gender'] == 'F'] = False\n"
     ]
    }
   ],
   "source": [
    "df = drop_na_rows_diabetes(df)\n",
    "df = fillna_subset_diabetes(df)\n",
    "df = generate_dummy_ethnicity_variables(df)\n",
    "df = convert_gender_to_binary(df)\n",
    "print(df.head())"
   ]
  },
  {
   "cell_type": "code",
   "execution_count": 4,
   "metadata": {},
   "outputs": [
    {
     "name": "stdout",
     "output_type": "stream",
     "text": [
      "0.5102748525532429\n",
      "0.5252408392913632\n"
     ]
    }
   ],
   "source": [
    "X_train, X_test, y_train, y_test = get_training_data(df)\n",
    "model = get_trained_model(X_train, y_train)\n",
    "X_train, X_test = get_predictions(model, x_train=X_train, x_test=X_test)\n",
    "print(get_accuracy(X_test['predictions'],y_test))\n",
    "print(get_accuracy(X_train['predictions'],y_train))\n"
   ]
  },
  {
   "cell_type": "code",
   "execution_count": 6,
   "metadata": {},
   "outputs": [],
   "source": []
  },
  {
   "cell_type": "code",
   "execution_count": null,
   "metadata": {},
   "outputs": [],
   "source": []
  },
  {
   "cell_type": "code",
   "execution_count": null,
   "metadata": {},
   "outputs": [],
   "source": []
  },
  {
   "cell_type": "code",
   "execution_count": null,
   "metadata": {},
   "outputs": [],
   "source": []
  }
 ],
 "metadata": {
  "kernelspec": {
   "display_name": "base",
   "language": "python",
   "name": "python3"
  },
  "language_info": {
   "codemirror_mode": {
    "name": "ipython",
    "version": 3
   },
   "file_extension": ".py",
   "mimetype": "text/x-python",
   "name": "python",
   "nbconvert_exporter": "python",
   "pygments_lexer": "ipython3",
   "version": "3.11.4"
  },
  "orig_nbformat": 4
 },
 "nbformat": 4,
 "nbformat_minor": 2
}
